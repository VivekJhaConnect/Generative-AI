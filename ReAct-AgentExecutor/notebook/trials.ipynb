{
 "cells": [
  {
   "cell_type": "code",
   "execution_count": 1,
   "metadata": {},
   "outputs": [],
   "source": [
    "from groq import Groq\n",
    "\n",
    "client = Groq()\n",
    "completion = client.chat.completions.create(\n",
    "    model=\"deepseek-r1-distill-qwen-32b\",\n",
    "    messages=[\n",
    "        {\n",
    "            \"role\": \"user\",\n",
    "            \"content\": \"what is GenAI?\"\n",
    "        },\n",
    "        {\n",
    "            \"role\": \"assistant\",\n",
    "            \"content\": \"<think>\\n\\n</think>\\n\\nGenAI, or General AI, refers to a type of artificial intelligence that possesses the ability to understand, learn, and apply knowledge across a wide range of tasks at a level comparable to human intelligence. Unlike narrow AI, which is designed for specific tasks (e.g., facial recognition, language translation), GenAI is hypothesized to have generalized intelligence, enabling it to perform any intellectual task that a human can do.\\n\\nKey characteristics of GenAI include:\\n\\n1. **Generalization**: Ability to apply knowledge and skills across diverse domains.\\n2. **Autonomy**: Capability to operate independently without human intervention.\\n3. **Adaptability**: Flexibility to learn and adapt to new situations and environments.\\n4. **Reasoning**: Advanced problem-solving and critical thinking abilities.\\n5. **Creativity**: Capacity to generate novel ideas, solutions, and content.\\n\\nAs of now, true GenAI does not exist, and achieving it remains a significant challenge in AI research. Current AI systems, including large language models like ChatGPT, are still considered narrow AI, as they are designed for specific tasks and lack the generalized intelligence required for GenAI.\"\n",
    "        }\n",
    "    ],\n",
    "    temperature=0.6,\n",
    "    max_completion_tokens=4096,\n",
    "    top_p=0.95,\n",
    "    stream=True,\n",
    "    stop=None,\n",
    ")\n",
    "\n",
    "for chunk in completion:\n",
    "    print(chunk.choices[0].delta.content or \"\", end=\"\")\n"
   ]
  },
  {
   "cell_type": "code",
   "execution_count": 2,
   "metadata": {},
   "outputs": [
    {
     "data": {
      "text/plain": [
       "<groq.Stream at 0x1f749014740>"
      ]
     },
     "execution_count": 2,
     "metadata": {},
     "output_type": "execute_result"
    }
   ],
   "source": [
    "completion"
   ]
  },
  {
   "cell_type": "code",
   "execution_count": null,
   "metadata": {},
   "outputs": [],
   "source": []
  }
 ],
 "metadata": {
  "kernelspec": {
   "display_name": "venv",
   "language": "python",
   "name": "python3"
  },
  "language_info": {
   "codemirror_mode": {
    "name": "ipython",
    "version": 3
   },
   "file_extension": ".py",
   "mimetype": "text/x-python",
   "name": "python",
   "nbconvert_exporter": "python",
   "pygments_lexer": "ipython3",
   "version": "3.12.3"
  }
 },
 "nbformat": 4,
 "nbformat_minor": 2
}
