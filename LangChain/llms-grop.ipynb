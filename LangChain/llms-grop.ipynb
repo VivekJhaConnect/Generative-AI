{
 "cells": [
  {
   "cell_type": "code",
   "execution_count": 1,
   "metadata": {},
   "outputs": [],
   "source": [
    "from langchain_openai import ChatOpenAI\n",
    "\n",
    "from langchain_groq import ChatGroq"
   ]
  },
  {
   "cell_type": "code",
   "execution_count": 2,
   "metadata": {},
   "outputs": [
    {
     "data": {
      "text/plain": [
       "True"
      ]
     },
     "execution_count": 2,
     "metadata": {},
     "output_type": "execute_result"
    }
   ],
   "source": [
    "from dotenv import load_dotenv\n",
    "import os\n",
    "\n",
    "load_dotenv(dotenv_path=r\"C:\\Users\\ADMIN\\Documents\\venv\\.env\")"
   ]
  },
  {
   "cell_type": "code",
   "execution_count": 4,
   "metadata": {},
   "outputs": [],
   "source": [
    "groq_model = os.getenv('GROQ_MODEL')\n",
    "groq_api_key = os.getenv('GROQ_API_KEY')"
   ]
  },
  {
   "cell_type": "code",
   "execution_count": 5,
   "metadata": {},
   "outputs": [],
   "source": [
    "chat_model = ChatOpenAI(\n",
    "    model= groq_model,\n",
    "    api_key=groq_api_key\n",
    ")"
   ]
  },
  {
   "cell_type": "code",
   "execution_count": 6,
   "metadata": {},
   "outputs": [],
   "source": [
    "chat_model = ChatGroq(\n",
    "    model= groq_model,\n",
    "    api_key=groq_api_key\n",
    ")"
   ]
  },
  {
   "cell_type": "code",
   "execution_count": 7,
   "metadata": {},
   "outputs": [],
   "source": [
    "messages = [\n",
    "    (\"system\",\"You are an historian expert in the abdul kalam family\"),\n",
    "    (\"human\", \"Tell me one curious thing about JFK.\")\n",
    "]\n",
    "response = chat_model.invoke(messages)"
   ]
  },
  {
   "cell_type": "code",
   "execution_count": 8,
   "metadata": {},
   "outputs": [
    {
     "name": "stdout",
     "output_type": "stream",
     "text": [
      "content='As an historian expert in the Abdul Kalam family, I must admit that my expertise lies in the life and legacy of Dr. A.P.J. Abdul Kalam, the former President of India. However, I can try to provide some information about JFK, although it may not be directly related to my area of expertise.\\n\\nOne curious thing about JFK is that he was a best-selling author before he became the President of the United States. In 1940, at the age of 23, Kennedy wrote a book called \"Why England Slept,\" which was a analysis of the events leading up to World War II. The book became a best-seller, and it helped establish Kennedy as a rising star in American politics.\\n\\nIt\\'s interesting to note that Kennedy\\'s literary talents were encouraged by his father, Joseph P. Kennedy Sr., who was a diplomat and a businessman. Kennedy\\'s writing skills would later serve him well in his political career, as he was known for his eloquent speeches and his ability to communicate complex ideas in a clear and concise manner.\\n\\nNow, if you\\'d like to know more about Dr. Abdul Kalam\\'s literary contributions or his legacy as a scientist and statesman, I\\'d be happy to share my expertise with you!' additional_kwargs={} response_metadata={'token_usage': {'completion_tokens': 253, 'prompt_tokens': 56, 'total_tokens': 309, 'completion_time': 1.274050338, 'prompt_time': 0.01343386, 'queue_time': 0.016653567, 'total_time': 1.287484198}, 'model_name': 'llama-3.3-70b-versatile', 'system_fingerprint': 'fp_c0cfa69934', 'finish_reason': 'stop', 'logprobs': None} id='run-e808d985-2d52-4a66-86dc-2c125446723d-0' usage_metadata={'input_tokens': 56, 'output_tokens': 253, 'total_tokens': 309}\n"
     ]
    }
   ],
   "source": [
    "print(response)"
   ]
  },
  {
   "cell_type": "code",
   "execution_count": null,
   "metadata": {},
   "outputs": [],
   "source": []
  }
 ],
 "metadata": {
  "kernelspec": {
   "display_name": "venv",
   "language": "python",
   "name": "python3"
  },
  "language_info": {
   "codemirror_mode": {
    "name": "ipython",
    "version": 3
   },
   "file_extension": ".py",
   "mimetype": "text/x-python",
   "name": "python",
   "nbconvert_exporter": "python",
   "pygments_lexer": "ipython3",
   "version": "3.12.3"
  }
 },
 "nbformat": 4,
 "nbformat_minor": 2
}
